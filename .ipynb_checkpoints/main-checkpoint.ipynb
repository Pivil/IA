{
 "cells": [
  {
   "cell_type": "markdown",
   "id": "sitting-sitting",
   "metadata": {},
   "source": []
  },
  {
   "cell_type": "code",
   "execution_count": 96,
   "id": "worthy-liquid",
   "metadata": {},
   "outputs": [],
   "source": [
    "from classes.dataManagement import DataManagement \n",
    "import numpy as np\n",
    "from sklearn.datasets import make_regression\n",
    "import matplotlib.pyplot as plt\n",
    "import difflib\n",
    "from sklearn.preprocessing import StandardScaler\n",
    "\n",
    "\n",
    "dm = DataManagement()\n",
    "import decimal\n",
    "\n",
    "\n",
    "\n"
   ]
  },
  {
   "cell_type": "markdown",
   "id": "lyric-charlotte",
   "metadata": {},
   "source": [
    "# 1. Dataset"
   ]
  },
  {
   "cell_type": "code",
   "execution_count": 216,
   "id": "accredited-avenue",
   "metadata": {},
   "outputs": [
    {
     "name": "stdout",
     "output_type": "stream",
     "text": [
      "(60000, 784)\n",
      "(60000, 1)\n",
      "(784, 1)\n"
     ]
    }
   ],
   "source": [
    "x = np.array(dm.trainImages)\n",
    "y = np.array(dm.trainLabels)\n",
    "\n",
    "#X = x / 255 #divise by 255 because each value is a white value (0 to 255)\n",
    "y = y.reshape(len(y), 1)\n",
    "\n",
    "from sklearn.preprocessing import StandardScaler\n",
    "sc = StandardScaler()\n",
    "X = sc.fit_transform(X)\n",
    "\n",
    "#X = np.hstack((x, np.ones((x.shape[0], 1))))\n",
    "print(X.shape)\n",
    "print(y.shape)\n",
    "\n",
    "#theta\n",
    "theta = np.random.rand(len(X[0]),1)\n",
    "print(theta.shape)\n"
   ]
  },
  {
   "cell_type": "markdown",
   "id": "flying-spectacular",
   "metadata": {},
   "source": [
    "# Modèle"
   ]
  },
  {
   "cell_type": "code",
   "execution_count": 6,
   "id": "boring-composite",
   "metadata": {},
   "outputs": [],
   "source": [
    "#Modèle\n",
    "def model(X, theta):\n",
    "    return X.dot(theta)"
   ]
  },
  {
   "cell_type": "code",
   "execution_count": 158,
   "id": "solid-occurrence",
   "metadata": {},
   "outputs": [
    {
     "name": "stdout",
     "output_type": "stream",
     "text": [
      "[[53.49019257]\n",
      " [59.55651386]\n",
      " [38.49022458]\n",
      " ...\n",
      " [41.1630071 ]\n",
      " [40.76424641]\n",
      " [37.72217615]]\n"
     ]
    }
   ],
   "source": [
    "print(model(X,theta))\n",
    "#plt.plot(x, model(X,theta))"
   ]
  },
  {
   "cell_type": "code",
   "execution_count": 159,
   "id": "still-saudi",
   "metadata": {},
   "outputs": [],
   "source": [
    "def cost_function(X, y, theta):\n",
    "    m = len(y)\n",
    "    return 1/(2*m) * np.sum((X.dot(theta) - y) ** 2)"
   ]
  },
  {
   "cell_type": "code",
   "execution_count": 160,
   "id": "suffering-pizza",
   "metadata": {},
   "outputs": [
    {
     "data": {
      "text/plain": [
       "1186.9811102855585"
      ]
     },
     "execution_count": 160,
     "metadata": {},
     "output_type": "execute_result"
    }
   ],
   "source": [
    "cost_function(X, y, theta)"
   ]
  },
  {
   "cell_type": "code",
   "execution_count": 14,
   "id": "cellular-appointment",
   "metadata": {},
   "outputs": [],
   "source": [
    "def grad(X, y, theta):\n",
    "    m = len(y)\n",
    "    return 1/m * X.T.dot(model(X, theta) - y)"
   ]
  },
  {
   "cell_type": "code",
   "execution_count": 15,
   "id": "tamil-rachel",
   "metadata": {},
   "outputs": [],
   "source": [
    "def gradient_descent(X, y, theta, learningRate, nbIteration):\n",
    "    cost_history = np.zeros(nbIteration)\n",
    "    for i in range(0, nbIteration):\n",
    "        theta = theta - learningRate * grad(X, y, theta)\n",
    "        cost_history[i] = cost_function(X, y, theta)\n",
    "    return theta, cost_history"
   ]
  },
  {
   "cell_type": "markdown",
   "id": "acoustic-conditioning",
   "metadata": {},
   "source": [
    "# Coefficient de détermination"
   ]
  },
  {
   "cell_type": "code",
   "execution_count": 161,
   "id": "third-slovenia",
   "metadata": {},
   "outputs": [],
   "source": [
    "def coef_determination(pred, y):\n",
    "    sst = np.sum((y-y.mean())**2)\n",
    "    ssr = np.sum((pred-y)**2)\n",
    "    r2 = 1-(ssr/sst)\n",
    "    return(r2)"
   ]
  },
  {
   "cell_type": "markdown",
   "id": "architectural-technician",
   "metadata": {},
   "source": [
    "# Machine learning"
   ]
  },
  {
   "cell_type": "code",
   "execution_count": null,
   "id": "interesting-multiple",
   "metadata": {},
   "outputs": [],
   "source": [
    "theta = np.random.rand(len(X[0]),1)\n",
    "n = 500\n",
    "learningRate = 0.05\n",
    "thetaFinal, cost_history = gradient_descent(X, y, theta, learningRate = learningRate, nbIteration = n)\n",
    "plt.plot(range(n), cost_history)\n",
    "\n",
    "pred = model(X, thetaFinal)\n",
    "print(coef_determination(pred, y))\n",
    "for i in range(10):\n",
    "    print(pred[i])\n",
    "    print(y[i])"
   ]
  },
  {
   "cell_type": "code",
   "execution_count": 208,
   "id": "broke-visitor",
   "metadata": {},
   "outputs": [
    {
     "name": "stdout",
     "output_type": "stream",
     "text": [
      "[5.05749698]\n",
      "[5]\n",
      "[0.39210255]\n",
      "[0]\n",
      "[4.99016642]\n",
      "[4]\n",
      "[2.01016115]\n",
      "[1]\n",
      "[7.02335231]\n",
      "[9]\n",
      "[3.58080779]\n",
      "[2]\n",
      "[2.22460851]\n",
      "[1]\n",
      "[3.80202766]\n",
      "[3]\n",
      "[0.63022182]\n",
      "[1]\n",
      "[4.65063746]\n",
      "[4]\n"
     ]
    }
   ],
   "source": [
    "for i in range(10):\n",
    "    print(pred[i])\n",
    "    print(y[i])"
   ]
  },
  {
   "cell_type": "code",
   "execution_count": 192,
   "id": "efficient-mission",
   "metadata": {},
   "outputs": [
    {
     "name": "stdout",
     "output_type": "stream",
     "text": [
      "0.005\n"
     ]
    },
    {
     "name": "stderr",
     "output_type": "stream",
     "text": [
      "<ipython-input-6-4d0385884bfd>:3: VisibleDeprecationWarning: Creating an ndarray from ragged nested sequences (which is a list-or-tuple of lists-or-tuples-or ndarrays with different lengths or shapes) is deprecated. If you meant to do this, you must specify 'dtype=object' when creating the ndarray.\n",
      "  return X.dot(theta)\n"
     ]
    },
    {
     "ename": "ValueError",
     "evalue": "shapes (60000,784) and (2,) not aligned: 784 (dim 1) != 2 (dim 0)",
     "output_type": "error",
     "traceback": [
      "\u001b[0;31m---------------------------------------------------------------------------\u001b[0m",
      "\u001b[0;31mValueError\u001b[0m                                Traceback (most recent call last)",
      "\u001b[0;32m<ipython-input-192-af2a3cb9d84e>\u001b[0m in \u001b[0;36m<module>\u001b[0;34m\u001b[0m\n\u001b[1;32m     12\u001b[0m     \u001b[0mprint\u001b[0m\u001b[0;34m(\u001b[0m\u001b[0mlearningRate\u001b[0m\u001b[0;34m)\u001b[0m\u001b[0;34m\u001b[0m\u001b[0;34m\u001b[0m\u001b[0m\n\u001b[1;32m     13\u001b[0m     \u001b[0mthetaFinal\u001b[0m \u001b[0;34m=\u001b[0m \u001b[0mgradient_descent\u001b[0m\u001b[0;34m(\u001b[0m\u001b[0mX\u001b[0m\u001b[0;34m,\u001b[0m \u001b[0my\u001b[0m\u001b[0;34m,\u001b[0m \u001b[0mtmp\u001b[0m\u001b[0;34m,\u001b[0m \u001b[0mlearningRate\u001b[0m \u001b[0;34m=\u001b[0m \u001b[0;36m0.0001\u001b[0m\u001b[0;34m,\u001b[0m \u001b[0mnbIteration\u001b[0m \u001b[0;34m=\u001b[0m \u001b[0mn\u001b[0m\u001b[0;34m)\u001b[0m\u001b[0;34m\u001b[0m\u001b[0;34m\u001b[0m\u001b[0m\n\u001b[0;32m---> 14\u001b[0;31m     \u001b[0mpred\u001b[0m \u001b[0;34m=\u001b[0m \u001b[0mmodel\u001b[0m\u001b[0;34m(\u001b[0m\u001b[0mX\u001b[0m\u001b[0;34m,\u001b[0m \u001b[0mthetaFinal\u001b[0m\u001b[0;34m)\u001b[0m\u001b[0;34m\u001b[0m\u001b[0;34m\u001b[0m\u001b[0m\n\u001b[0m\u001b[1;32m     15\u001b[0m     \u001b[0mtest\u001b[0m\u001b[0;34m[\u001b[0m\u001b[0mindex\u001b[0m\u001b[0;34m]\u001b[0m \u001b[0;34m=\u001b[0m \u001b[0mcoef_determination\u001b[0m\u001b[0;34m(\u001b[0m\u001b[0mpred\u001b[0m\u001b[0;34m,\u001b[0m \u001b[0my\u001b[0m\u001b[0;34m)\u001b[0m\u001b[0;34m\u001b[0m\u001b[0;34m\u001b[0m\u001b[0m\n\u001b[1;32m     16\u001b[0m     \u001b[0mindex\u001b[0m \u001b[0;34m+=\u001b[0m \u001b[0;36m1\u001b[0m\u001b[0;34m\u001b[0m\u001b[0;34m\u001b[0m\u001b[0m\n",
      "\u001b[0;32m<ipython-input-6-4d0385884bfd>\u001b[0m in \u001b[0;36mmodel\u001b[0;34m(X, theta)\u001b[0m\n\u001b[1;32m      1\u001b[0m \u001b[0;31m#Modèle\u001b[0m\u001b[0;34m\u001b[0m\u001b[0;34m\u001b[0m\u001b[0;34m\u001b[0m\u001b[0m\n\u001b[1;32m      2\u001b[0m \u001b[0;32mdef\u001b[0m \u001b[0mmodel\u001b[0m\u001b[0;34m(\u001b[0m\u001b[0mX\u001b[0m\u001b[0;34m,\u001b[0m \u001b[0mtheta\u001b[0m\u001b[0;34m)\u001b[0m\u001b[0;34m:\u001b[0m\u001b[0;34m\u001b[0m\u001b[0;34m\u001b[0m\u001b[0m\n\u001b[0;32m----> 3\u001b[0;31m     \u001b[0;32mreturn\u001b[0m \u001b[0mX\u001b[0m\u001b[0;34m.\u001b[0m\u001b[0mdot\u001b[0m\u001b[0;34m(\u001b[0m\u001b[0mtheta\u001b[0m\u001b[0;34m)\u001b[0m\u001b[0;34m\u001b[0m\u001b[0;34m\u001b[0m\u001b[0m\n\u001b[0m",
      "\u001b[0;31mValueError\u001b[0m: shapes (60000,784) and (2,) not aligned: 784 (dim 1) != 2 (dim 0)"
     ]
    }
   ],
   "source": [
    "n = 500\n",
    "start = 0.005\n",
    "stop = 0.007\n",
    "step = 0.001\n",
    "index = 0\n",
    "test = np.zeros(2)\n",
    "\n",
    "import copy\n",
    "for learningRate in np.arange(start, stop, step):\n",
    "    tmp = copy.deepcopy(theta)\n",
    "    print(learningRate)\n",
    "    thetaFinal = gradient_descent(X, y, tmp, learningRate = 0.0001, nbIteration = n)\n",
    "    pred = model(X, thetaFinal)\n",
    "    test[index] = coef_determination(pred, y)\n",
    "    index += 1\n",
    "\n",
    "print(test)\n",
    "print(\"fini\")"
   ]
  },
  {
   "cell_type": "code",
   "execution_count": 84,
   "id": "constant-sweet",
   "metadata": {},
   "outputs": [
    {
     "name": "stdout",
     "output_type": "stream",
     "text": [
      "0.5181932101117801\n"
     ]
    }
   ],
   "source": [
    "predictions = model(X, thetaFinal)\n",
    "\n",
    "print(coef_determination(predictions, y))\n"
   ]
  },
  {
   "cell_type": "code",
   "execution_count": 85,
   "id": "republican-illness",
   "metadata": {},
   "outputs": [
    {
     "name": "stdout",
     "output_type": "stream",
     "text": [
      "[4.68964042]\n",
      "[5]\n",
      "[0.93032388]\n",
      "[0]\n",
      "[3.33357663]\n",
      "[4]\n",
      "[1.80798477]\n",
      "[1]\n",
      "[8.00923554]\n",
      "[9]\n",
      "[3.01526086]\n",
      "[2]\n",
      "[2.31112057]\n",
      "[1]\n",
      "[3.84763266]\n",
      "[3]\n",
      "[1.13092905]\n",
      "[1]\n",
      "[4.16791554]\n",
      "[4]\n"
     ]
    }
   ],
   "source": [
    "for i in range(10):\n",
    "    print(predictions[i])\n",
    "    print(y[i])"
   ]
  }
 ],
 "metadata": {
  "kernelspec": {
   "display_name": "Python 3",
   "language": "python",
   "name": "python3"
  },
  "language_info": {
   "codemirror_mode": {
    "name": "ipython",
    "version": 3
   },
   "file_extension": ".py",
   "mimetype": "text/x-python",
   "name": "python",
   "nbconvert_exporter": "python",
   "pygments_lexer": "ipython3",
   "version": "3.8.6"
  },
  "toc-showcode": false
 },
 "nbformat": 4,
 "nbformat_minor": 5
}
