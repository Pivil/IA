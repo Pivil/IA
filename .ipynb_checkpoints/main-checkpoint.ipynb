{
 "cells": [
  {
   "cell_type": "markdown",
   "id": "generic-wildlife",
   "metadata": {},
   "source": []
  },
  {
   "cell_type": "code",
   "execution_count": 103,
   "id": "impossible-weather",
   "metadata": {},
   "outputs": [],
   "source": [
    "from classes.dataManagement import DataManagement \n",
    "import numpy as np\n",
    "from sklearn.datasets import make_regression\n",
    "import matplotlib.pyplot as plt\n",
    "import difflib\n",
    "import math  \n",
    "import pandas as pd\n",
    "from sklearn.linear_model import LogisticRegression\n",
    "from sklearn.preprocessing import StandardScaler\n",
    "from sklearn.decomposition import PCA\n",
    "\n",
    "\n",
    "scaler = StandardScaler()\n",
    "dm = DataManagement()\n",
    "import decimal"
   ]
  },
  {
   "cell_type": "markdown",
   "id": "waiting-huntington",
   "metadata": {},
   "source": [
    "# 1. Dataset"
   ]
  },
  {
   "cell_type": "code",
   "execution_count": 104,
   "id": "unlimited-supplement",
   "metadata": {},
   "outputs": [
    {
     "name": "stdout",
     "output_type": "stream",
     "text": [
      "(60000, 785)\n",
      "(60000, 1)\n",
      "(785, 1)\n"
     ]
    }
   ],
   "source": [
    "x = np.array(dm.trainImages)\n",
    "y = np.array(dm.trainLabels)\n",
    "\n",
    "X = x / 255 #divise by 255 because each value is a white value (0 to 255)\n",
    "y = y.reshape(len(y), 1)\n",
    "\n",
    "X = np.hstack((X, np.ones((X.shape[0], 1))))\n",
    "print(X.shape)\n",
    "print(y.shape)\n",
    "\n",
    "#theta\n",
    "theta = np.random.rand(len(X[0]),1)\n",
    "print(theta.shape)\n"
   ]
  },
  {
   "cell_type": "code",
   "execution_count": 110,
   "id": "alone-cleaning",
   "metadata": {},
   "outputs": [
    {
     "name": "stdout",
     "output_type": "stream",
     "text": [
      "154\n"
     ]
    }
   ],
   "source": [
    "pca = PCA(.95)\n",
    "pca.fit(x)\n",
    "print(pca.n_components_)\n",
    "x = pca.transform(x)"
   ]
  },
  {
   "cell_type": "code",
   "execution_count": 111,
   "id": "municipal-intranet",
   "metadata": {},
   "outputs": [
    {
     "name": "stdout",
     "output_type": "stream",
     "text": [
      "[[ 123.93258866 -312.67426202  -24.51405176 ...   55.01899792\n",
      "   -20.08327427   39.58995229]\n",
      " [1011.71837587 -294.85703827  596.33956104 ...    7.24129874\n",
      "   -12.45780869  -12.7432306 ]\n",
      " [ -51.84960805  392.17315286 -188.50974943 ...  -54.19582221\n",
      "    48.47979747  -73.27826256]\n",
      " ...\n",
      " [-178.0534496   160.07821109 -257.61308227 ...   55.54485537\n",
      "    87.99883556   -5.78979735]\n",
      " [ 130.60607208   -5.59193642  513.85867395 ...   23.30835402\n",
      "     5.06237836  -65.26525587]\n",
      " [-173.43595244  -24.71880226  556.01889393 ...   52.4956069\n",
      "    12.63192292  -45.74001227]]\n",
      "(60000, 154)\n"
     ]
    }
   ],
   "source": [
    "print(x)\n",
    "print(x.shape)"
   ]
  },
  {
   "cell_type": "markdown",
   "id": "alone-wound",
   "metadata": {},
   "source": [
    "# Modèle"
   ]
  },
  {
   "cell_type": "markdown",
   "id": "herbal-negotiation",
   "metadata": {},
   "source": [
    "# Coefficient de détermination"
   ]
  },
  {
   "cell_type": "markdown",
   "id": "accessory-genius",
   "metadata": {},
   "source": [
    "# Machine learning"
   ]
  },
  {
   "cell_type": "markdown",
   "id": "neither-feeling",
   "metadata": {},
   "source": [
    "# Show results"
   ]
  }
 ],
 "metadata": {
  "kernelspec": {
   "display_name": "Python 3",
   "language": "python",
   "name": "python3"
  },
  "language_info": {
   "codemirror_mode": {
    "name": "ipython",
    "version": 3
   },
   "file_extension": ".py",
   "mimetype": "text/x-python",
   "name": "python",
   "nbconvert_exporter": "python",
   "pygments_lexer": "ipython3",
   "version": "3.8.6"
  },
  "toc-showcode": false
 },
 "nbformat": 4,
 "nbformat_minor": 5
}
