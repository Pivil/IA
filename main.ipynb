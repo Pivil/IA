{
 "cells": [
  {
   "cell_type": "markdown",
   "id": "simple-vanilla",
   "metadata": {},
   "source": []
  },
  {
   "cell_type": "code",
   "execution_count": 36,
   "id": "hourly-keyboard",
   "metadata": {},
   "outputs": [],
   "source": [
    "from classes.dataManagement import DataManagement \n",
    "import numpy as np\n",
    "from sklearn.datasets import make_regression\n",
    "import matplotlib.pyplot as plt\n",
    "from sklearn.neighbors import KNeighborsClassifier\n",
    "import difflib\n",
    "\n",
    "dm = DataManagement()\n",
    "meanImages = []\n",
    "for i in range(0,10):\n",
    "    meanImages.append(dm.getMeanImage(i));\n",
    "meanImages = np.array(meanImages);\n",
    "\n",
    "meanForY = []\n",
    "for i in dm.trainLabels:\n",
    "    meanForY.append(meanImages[i]/255)\n",
    "meanForY = np.array(meanForY)\n"
   ]
  },
  {
   "cell_type": "markdown",
   "id": "experienced-artist",
   "metadata": {},
   "source": [
    "# 1. Dataset"
   ]
  },
  {
   "cell_type": "code",
   "execution_count": 60,
   "id": "waiting-gibraltar",
   "metadata": {},
   "outputs": [
    {
     "name": "stdout",
     "output_type": "stream",
     "text": [
      "(60000, 785)\n",
      "(60000, 1)\n",
      "(785, 1)\n"
     ]
    }
   ],
   "source": [
    "x = np.array(dm.trainImages)\n",
    "y = np.array(dm.trainLabels)\n",
    "\n",
    "x = x / 255 #divise by 255 because each value is a white value (0 to 255)\n",
    "y = y.reshape(len(y), 1)\n",
    "\n",
    "\n",
    "X = np.hstack((x, np.ones((x.shape[0], 1))))\n",
    "print(X.shape)\n",
    "print(y.shape)\n",
    "\n",
    "#theta\n",
    "theta = np.random.rand(len(X[0]),1)\n",
    "print(theta.shape)"
   ]
  },
  {
   "cell_type": "markdown",
   "id": "golden-realtor",
   "metadata": {},
   "source": [
    "# Modèle"
   ]
  },
  {
   "cell_type": "code",
   "execution_count": 62,
   "id": "restricted-mercy",
   "metadata": {},
   "outputs": [],
   "source": [
    "#Modèle\n",
    "def model(X, theta):\n",
    "    return X.dot(theta)"
   ]
  },
  {
   "cell_type": "code",
   "execution_count": 64,
   "id": "artificial-gibson",
   "metadata": {},
   "outputs": [
    {
     "name": "stdout",
     "output_type": "stream",
     "text": [
      "[[54.19493374]\n",
      " [59.7415739 ]\n",
      " [39.23943912]\n",
      " ...\n",
      " [42.72813284]\n",
      " [40.47580904]\n",
      " [40.71729792]]\n"
     ]
    }
   ],
   "source": [
    "print(model(X,theta))\n",
    "#plt.plot(x, model(X,theta))"
   ]
  },
  {
   "cell_type": "code",
   "execution_count": 41,
   "id": "renewable-piano",
   "metadata": {},
   "outputs": [],
   "source": [
    "def cost_function(X, meanY, theta):\n",
    "    m = len(y)\n",
    "    return 1/m * np.sum(np.sum((model(X, theta) - meanY)))"
   ]
  },
  {
   "cell_type": "code",
   "execution_count": 65,
   "id": "dedicated-locator",
   "metadata": {},
   "outputs": [
    {
     "data": {
      "text/plain": [
       "39335.574796804074"
      ]
     },
     "execution_count": 65,
     "metadata": {},
     "output_type": "execute_result"
    }
   ],
   "source": [
    "cost_function(X, meanForY, theta)"
   ]
  },
  {
   "cell_type": "code",
   "execution_count": 6,
   "id": "weighted-underwear",
   "metadata": {},
   "outputs": [],
   "source": [
    "def grad(X, y, theta):\n",
    "    m = len(y)\n",
    "    return 1/m * X.T.dot(model(X, theta) - y)"
   ]
  },
  {
   "cell_type": "code",
   "execution_count": 7,
   "id": "sublime-parker",
   "metadata": {},
   "outputs": [],
   "source": [
    "def gradient_descent(X, y, theta, learningRate, nbIteration):\n",
    "    cost_history = np.zeros(nbIteration)\n",
    "    for i in range(0, nbIteration):\n",
    "        theta = theta - learningRate * grad(X, y, theta)\n",
    "        cost_history[i] = cost_function(X, y, theta)\n",
    "    return theta, cost_history"
   ]
  },
  {
   "cell_type": "markdown",
   "id": "unknown-revision",
   "metadata": {},
   "source": [
    "# Machine learning"
   ]
  },
  {
   "cell_type": "code",
   "execution_count": 43,
   "id": "requested-lithuania",
   "metadata": {},
   "outputs": [
    {
     "data": {
      "text/plain": [
       "[<matplotlib.lines.Line2D at 0x12aad8640>]"
      ]
     },
     "execution_count": 43,
     "metadata": {},
     "output_type": "execute_result"
    },
    {
     "data": {
      "image/png": "[encoded data removed]",
      "text/plain": [
       "<Figure size 432x288 with 1 Axes>"
      ]
     },
     "metadata": {
      "needs_background": "light"
     },
     "output_type": "display_data"
    }
   ],
   "source": [
    "n = 75\n",
    "thetaFinal, cost_history = gradient_descent(X, meanForY, theta, learningRate = 0.001, nbIteration = n)\n",
    "plt.plot(range(n), cost_history)\n"
   ]
  },
  {
   "cell_type": "markdown",
   "id": "sought-means",
   "metadata": {},
   "source": [
    "# Coefficient de détermination"
   ]
  },
  {
   "cell_type": "code",
   "execution_count": 31,
   "id": "backed-vietnam",
   "metadata": {},
   "outputs": [],
   "source": [
    "def coef_determination(y, pred):\n",
    "    u = ((y - pred)**2).sum()\n",
    "    v = ((y - y.mean())**2).sum()\n",
    "    return 1 - u/v"
   ]
  },
  {
   "cell_type": "code",
   "execution_count": 27,
   "id": "animal-generic",
   "metadata": {},
   "outputs": [],
   "source": [
    "def test(prediction, i):\n",
    "    m = len(prediction)\n",
    "    return 1/m * np.sum(prediction - dm.getMeanImage(i))"
   ]
  },
  {
   "cell_type": "code",
   "execution_count": 44,
   "id": "unnecessary-poison",
   "metadata": {},
   "outputs": [
    {
     "name": "stdout",
     "output_type": "stream",
     "text": [
      "-779.1338361650871\n"
     ]
    },
    {
     "data": {
      "text/plain": [
       "<matplotlib.image.AxesImage at 0x12ad4d700>"
      ]
     },
     "execution_count": 44,
     "metadata": {},
     "output_type": "execute_result"
    },
    {
     "data": {
      "image/png": "[encoded data removed]",
      "text/plain": [
       "<Figure size 432x288 with 1 Axes>"
      ]
     },
     "metadata": {
      "needs_background": "light"
     },
     "output_type": "display_data"
    }
   ],
   "source": [
    "predictions = model(X, thetaFinal)\n",
    "\n",
    "print(coef_determination(meanForY, predictions))\n",
    "\n",
    "\n",
    "nb = 2\n",
    "nbb = 0\n",
    "test = np.array(predictions[nb])\n",
    "test = test.reshape(784, 1)\n",
    "test = test.reshape(28, 28)\n",
    "\n",
    "plt.imshow(test)"
   ]
  },
  {
   "cell_type": "code",
   "execution_count": 112,
   "id": "separate-ethics",
   "metadata": {},
   "outputs": [
    {
     "data": {
      "text/plain": [
       "<matplotlib.image.AxesImage at 0x120380580>"
      ]
     },
     "execution_count": 112,
     "metadata": {},
     "output_type": "execute_result"
    },
    {
     "data": {
      "image/png": "[encoded data removed]",
      "text/plain": [
       "<Figure size 432x288 with 1 Axes>"
      ]
     },
     "metadata": {
      "needs_background": "light"
     },
     "output_type": "display_data"
    }
   ],
   "source": [
    "test2 = np.array(predictions[nbb])\n",
    "test2 = test2.reshape(784, 1)\n",
    "test2 = test2.reshape(28, 28)\n",
    "plt.imshow(test2)"
   ]
  }
 ],
 "metadata": {
  "kernelspec": {
   "display_name": "Python 3",
   "language": "python",
   "name": "python3"
  },
  "language_info": {
   "codemirror_mode": {
    "name": "ipython",
    "version": 3
   },
   "file_extension": ".py",
   "mimetype": "text/x-python",
   "name": "python",
   "nbconvert_exporter": "python",
   "pygments_lexer": "ipython3",
   "version": "3.8.2"
  },
  "toc-showcode": false
 },
 "nbformat": 4,
 "nbformat_minor": 5
}
