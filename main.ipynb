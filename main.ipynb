{
 "cells": [
  {
   "cell_type": "markdown",
   "id": "corporate-aurora",
   "metadata": {},
   "source": []
  },
  {
   "cell_type": "code",
   "execution_count": 103,
   "id": "ranging-durham",
   "metadata": {},
   "outputs": [],
   "source": [
    "from classes.dataManagement import DataManagement \n",
    "import numpy as np\n",
    "from sklearn.datasets import make_regression\n",
    "import matplotlib.pyplot as plt\n",
    "import difflib\n",
    "import math  \n",
    "import pandas as pd\n",
    "from sklearn.linear_model import LogisticRegression\n",
    "from sklearn.preprocessing import StandardScaler\n",
    "from sklearn.decomposition import PCA\n",
    "\n",
    "\n",
    "scaler = StandardScaler()\n",
    "dm = DataManagement()\n",
    "import decimal"
   ]
  },
  {
   "cell_type": "markdown",
   "id": "alive-glory",
   "metadata": {},
   "source": [
    "# 1. Dataset"
   ]
  },
  {
   "cell_type": "code",
   "execution_count": 114,
   "id": "czech-semester",
   "metadata": {},
   "outputs": [
    {
     "name": "stdout",
     "output_type": "stream",
     "text": [
      "(60000, 784)\n",
      "(60000, 1)\n",
      "154\n",
      "(154, 1)\n"
     ]
    }
   ],
   "source": [
    "x = np.array(dm.trainImages)\n",
    "y = np.array(dm.trainLabels)\n",
    "\n",
    "X = x / 255 #divise by 255 because each value is a white value (0 to 255)\n",
    "y = y.reshape(len(y), 1)\n",
    "\n",
    "#X = np.hstack((X, np.ones((X.shape[0], 1))))\n",
    "print(X.shape)\n",
    "print(y.shape)\n",
    "\n",
    "pca = PCA(.95)\n",
    "pca.fit(X)\n",
    "print(pca.n_components_)\n",
    "X = pca.transform(X)\n",
    "\n",
    "#theta\n",
    "theta = np.random.rand(len(X[0]),1)\n",
    "print(theta.shape)\n"
   ]
  },
  {
   "cell_type": "markdown",
   "id": "qualified-juvenile",
   "metadata": {},
   "source": [
    "# Modèle"
   ]
  },
  {
   "cell_type": "markdown",
   "id": "consolidated-wilson",
   "metadata": {},
   "source": [
    "# Coefficient de détermination"
   ]
  },
  {
   "cell_type": "markdown",
   "id": "overall-boxing",
   "metadata": {},
   "source": [
    "# Machine learning"
   ]
  },
  {
   "cell_type": "markdown",
   "id": "ordinary-hobby",
   "metadata": {},
   "source": [
    "# Show results"
   ]
  }
 ],
 "metadata": {
  "kernelspec": {
   "display_name": "Python 3",
   "language": "python",
   "name": "python3"
  },
  "language_info": {
   "codemirror_mode": {
    "name": "ipython",
    "version": 3
   },
   "file_extension": ".py",
   "mimetype": "text/x-python",
   "name": "python",
   "nbconvert_exporter": "python",
   "pygments_lexer": "ipython3",
   "version": "3.8.6"
  },
  "toc-showcode": false
 },
 "nbformat": 4,
 "nbformat_minor": 5
}
